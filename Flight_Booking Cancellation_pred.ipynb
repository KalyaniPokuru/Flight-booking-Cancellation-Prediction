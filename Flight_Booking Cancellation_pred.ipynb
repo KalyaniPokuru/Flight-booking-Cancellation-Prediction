{
 "cells": [
  {
   "cell_type": "code",
   "execution_count": 1,
   "id": "1a66f408",
   "metadata": {
    "_cell_guid": "b1076dfc-b9ad-4769-8c92-a6c4dae69d19",
    "_uuid": "8f2839f25d086af736a60e9eeb907d3b93b6e0e5",
    "execution": {
     "iopub.execute_input": "2021-11-01T03:13:59.687474Z",
     "iopub.status.busy": "2021-11-01T03:13:59.685757Z",
     "iopub.status.idle": "2021-11-01T03:14:00.581433Z",
     "shell.execute_reply": "2021-11-01T03:14:00.580691Z",
     "shell.execute_reply.started": "2021-11-01T02:53:09.635359Z"
    },
    "papermill": {
     "duration": 0.937464,
     "end_time": "2021-11-01T03:14:00.581609",
     "exception": false,
     "start_time": "2021-11-01T03:13:59.644145",
     "status": "completed"
    },
    "tags": []
   },
   "outputs": [],
   "source": [
    "import pandas as pd\n",
    "import numpy as np\n",
    "import matplotlib.pyplot as plt\n",
    "import seaborn as sns\n",
    "import warnings\n",
    "warnings.filterwarnings(\"ignore\")"
   ]
  },
  {
   "cell_type": "code",
   "execution_count": 2,
   "id": "daacca61",
   "metadata": {
    "execution": {
     "iopub.execute_input": "2021-11-01T03:14:00.658275Z",
     "iopub.status.busy": "2021-11-01T03:14:00.657630Z",
     "iopub.status.idle": "2021-11-01T03:14:00.684365Z",
     "shell.execute_reply": "2021-11-01T03:14:00.685207Z",
     "shell.execute_reply.started": "2021-11-01T02:54:02.771718Z"
    },
    "papermill": {
     "duration": 0.066902,
     "end_time": "2021-11-01T03:14:00.685477",
     "exception": false,
     "start_time": "2021-11-01T03:14:00.618575",
     "status": "completed"
    },
    "tags": []
   },
   "outputs": [],
   "source": [
    "df = pd.read_csv('C://ML//data.csv')"
   ]
  },
  {
   "cell_type": "code",
   "execution_count": 3,
   "id": "aa533b7d",
   "metadata": {},
   "outputs": [
    {
     "name": "stdout",
     "output_type": "stream",
     "text": [
      "<class 'pandas.core.frame.DataFrame'>\n",
      "RangeIndex: 954 entries, 0 to 953\n",
      "Data columns (total 7 columns):\n",
      " #   Column                      Non-Null Count  Dtype \n",
      "---  ------                      --------------  ----- \n",
      " 0   Age                         954 non-null    int64 \n",
      " 1   FrequentFlyer               954 non-null    object\n",
      " 2   AnnualIncomeClass           954 non-null    object\n",
      " 3   ServicesOpted               954 non-null    int64 \n",
      " 4   AccountSyncedToSocialMedia  954 non-null    object\n",
      " 5   BookedHotelOrNot            954 non-null    object\n",
      " 6   Target                      954 non-null    int64 \n",
      "dtypes: int64(3), object(4)\n",
      "memory usage: 52.3+ KB\n"
     ]
    }
   ],
   "source": [
    "df.info()"
   ]
  },
  {
   "cell_type": "code",
   "execution_count": 4,
   "id": "5523b4bd",
   "metadata": {
    "execution": {
     "iopub.execute_input": "2021-11-01T03:14:00.788411Z",
     "iopub.status.busy": "2021-11-01T03:14:00.786005Z",
     "iopub.status.idle": "2021-11-01T03:14:00.814902Z",
     "shell.execute_reply": "2021-11-01T03:14:00.813964Z",
     "shell.execute_reply.started": "2021-11-01T02:54:04.497128Z"
    },
    "papermill": {
     "duration": 0.088276,
     "end_time": "2021-11-01T03:14:00.815119",
     "exception": false,
     "start_time": "2021-11-01T03:14:00.726843",
     "status": "completed"
    },
    "tags": []
   },
   "outputs": [
    {
     "data": {
      "text/html": [
       "<div>\n",
       "<style scoped>\n",
       "    .dataframe tbody tr th:only-of-type {\n",
       "        vertical-align: middle;\n",
       "    }\n",
       "\n",
       "    .dataframe tbody tr th {\n",
       "        vertical-align: top;\n",
       "    }\n",
       "\n",
       "    .dataframe thead th {\n",
       "        text-align: right;\n",
       "    }\n",
       "</style>\n",
       "<table border=\"1\" class=\"dataframe\">\n",
       "  <thead>\n",
       "    <tr style=\"text-align: right;\">\n",
       "      <th></th>\n",
       "      <th>Age</th>\n",
       "      <th>FrequentFlyer</th>\n",
       "      <th>AnnualIncomeClass</th>\n",
       "      <th>ServicesOpted</th>\n",
       "      <th>AccountSyncedToSocialMedia</th>\n",
       "      <th>BookedHotelOrNot</th>\n",
       "      <th>Target</th>\n",
       "    </tr>\n",
       "  </thead>\n",
       "  <tbody>\n",
       "    <tr>\n",
       "      <th>0</th>\n",
       "      <td>34</td>\n",
       "      <td>No</td>\n",
       "      <td>Middle Income</td>\n",
       "      <td>6</td>\n",
       "      <td>No</td>\n",
       "      <td>Yes</td>\n",
       "      <td>0</td>\n",
       "    </tr>\n",
       "    <tr>\n",
       "      <th>1</th>\n",
       "      <td>34</td>\n",
       "      <td>Yes</td>\n",
       "      <td>Low Income</td>\n",
       "      <td>5</td>\n",
       "      <td>Yes</td>\n",
       "      <td>No</td>\n",
       "      <td>1</td>\n",
       "    </tr>\n",
       "    <tr>\n",
       "      <th>2</th>\n",
       "      <td>37</td>\n",
       "      <td>No</td>\n",
       "      <td>Middle Income</td>\n",
       "      <td>3</td>\n",
       "      <td>Yes</td>\n",
       "      <td>No</td>\n",
       "      <td>0</td>\n",
       "    </tr>\n",
       "    <tr>\n",
       "      <th>3</th>\n",
       "      <td>30</td>\n",
       "      <td>No</td>\n",
       "      <td>Middle Income</td>\n",
       "      <td>2</td>\n",
       "      <td>No</td>\n",
       "      <td>No</td>\n",
       "      <td>0</td>\n",
       "    </tr>\n",
       "    <tr>\n",
       "      <th>4</th>\n",
       "      <td>30</td>\n",
       "      <td>No</td>\n",
       "      <td>Low Income</td>\n",
       "      <td>1</td>\n",
       "      <td>No</td>\n",
       "      <td>No</td>\n",
       "      <td>0</td>\n",
       "    </tr>\n",
       "  </tbody>\n",
       "</table>\n",
       "</div>"
      ],
      "text/plain": [
       "   Age FrequentFlyer AnnualIncomeClass  ServicesOpted  \\\n",
       "0   34            No     Middle Income              6   \n",
       "1   34           Yes        Low Income              5   \n",
       "2   37            No     Middle Income              3   \n",
       "3   30            No     Middle Income              2   \n",
       "4   30            No        Low Income              1   \n",
       "\n",
       "  AccountSyncedToSocialMedia BookedHotelOrNot  Target  \n",
       "0                         No              Yes       0  \n",
       "1                        Yes               No       1  \n",
       "2                        Yes               No       0  \n",
       "3                         No               No       0  \n",
       "4                         No               No       0  "
      ]
     },
     "execution_count": 4,
     "metadata": {},
     "output_type": "execute_result"
    }
   ],
   "source": [
    "df.head()"
   ]
  },
  {
   "cell_type": "code",
   "execution_count": 5,
   "id": "c39c5621",
   "metadata": {
    "execution": {
     "iopub.execute_input": "2021-11-01T03:14:00.905134Z",
     "iopub.status.busy": "2021-11-01T03:14:00.904265Z",
     "iopub.status.idle": "2021-11-01T03:14:00.931529Z",
     "shell.execute_reply": "2021-11-01T03:14:00.932298Z",
     "shell.execute_reply.started": "2021-11-01T02:54:06.119821Z"
    },
    "papermill": {
     "duration": 0.07653,
     "end_time": "2021-11-01T03:14:00.932537",
     "exception": false,
     "start_time": "2021-11-01T03:14:00.856007",
     "status": "completed"
    },
    "tags": []
   },
   "outputs": [
    {
     "name": "stdout",
     "output_type": "stream",
     "text": [
      "<class 'pandas.core.frame.DataFrame'>\n",
      "RangeIndex: 954 entries, 0 to 953\n",
      "Data columns (total 7 columns):\n",
      " #   Column                      Non-Null Count  Dtype \n",
      "---  ------                      --------------  ----- \n",
      " 0   Age                         954 non-null    int64 \n",
      " 1   FrequentFlyer               954 non-null    object\n",
      " 2   AnnualIncomeClass           954 non-null    object\n",
      " 3   ServicesOpted               954 non-null    int64 \n",
      " 4   AccountSyncedToSocialMedia  954 non-null    object\n",
      " 5   BookedHotelOrNot            954 non-null    object\n",
      " 6   Target                      954 non-null    int64 \n",
      "dtypes: int64(3), object(4)\n",
      "memory usage: 52.3+ KB\n"
     ]
    }
   ],
   "source": [
    "# Checking for missing data\n",
    "\n",
    "df.info()"
   ]
  },
  {
   "cell_type": "code",
   "execution_count": 6,
   "id": "f6296da6",
   "metadata": {},
   "outputs": [],
   "source": [
    "df=df.dropna()"
   ]
  },
  {
   "cell_type": "code",
   "execution_count": 7,
   "id": "ef80cd56",
   "metadata": {
    "execution": {
     "iopub.execute_input": "2021-11-01T03:14:01.094876Z",
     "iopub.status.busy": "2021-11-01T03:14:01.093918Z",
     "iopub.status.idle": "2021-11-01T03:14:01.106609Z",
     "shell.execute_reply": "2021-11-01T03:14:01.107227Z",
     "shell.execute_reply.started": "2021-11-01T02:54:07.736789Z"
    },
    "papermill": {
     "duration": 0.130229,
     "end_time": "2021-11-01T03:14:01.107434",
     "exception": false,
     "start_time": "2021-11-01T03:14:00.977205",
     "status": "completed"
    },
    "tags": []
   },
   "outputs": [
    {
     "data": {
      "text/plain": [
       "Age                           0\n",
       "FrequentFlyer                 0\n",
       "AnnualIncomeClass             0\n",
       "ServicesOpted                 0\n",
       "AccountSyncedToSocialMedia    0\n",
       "BookedHotelOrNot              0\n",
       "Target                        0\n",
       "dtype: int64"
      ]
     },
     "execution_count": 7,
     "metadata": {},
     "output_type": "execute_result"
    }
   ],
   "source": [
    "# Double checking just to be sure\n",
    "\n",
    "df.isnull().sum()"
   ]
  },
  {
   "cell_type": "code",
   "execution_count": 8,
   "id": "abf3273b",
   "metadata": {},
   "outputs": [
    {
     "data": {
      "text/plain": [
       "<AxesSubplot:xlabel='Target', ylabel='count'>"
      ]
     },
     "execution_count": 8,
     "metadata": {},
     "output_type": "execute_result"
    },
    {
     "data": {
      "image/png": "[encoded data removed]",
      "text/plain": [
       "<Figure size 432x288 with 1 Axes>"
      ]
     },
     "metadata": {
      "needs_background": "light"
     },
     "output_type": "display_data"
    }
   ],
   "source": [
    "sns.countplot(\"Target\",data=df)"
   ]
  },
  {
   "cell_type": "markdown",
   "id": "872e36a4",
   "metadata": {
    "papermill": {
     "duration": 0.051198,
     "end_time": "2021-11-01T03:14:01.196588",
     "exception": false,
     "start_time": "2021-11-01T03:14:01.145390",
     "status": "completed"
    },
    "tags": []
   },
   "source": [
    "---\n",
    "## Exploratory Data Analysis"
   ]
  },
  {
   "cell_type": "code",
   "execution_count": 9,
   "id": "8a5d8452",
   "metadata": {
    "execution": {
     "iopub.execute_input": "2021-11-01T03:14:01.309024Z",
     "iopub.status.busy": "2021-11-01T03:14:01.307960Z",
     "iopub.status.idle": "2021-11-01T03:14:01.889977Z",
     "shell.execute_reply": "2021-11-01T03:14:01.889452Z",
     "shell.execute_reply.started": "2021-11-01T02:54:14.064101Z"
    },
    "papermill": {
     "duration": 0.631734,
     "end_time": "2021-11-01T03:14:01.890131",
     "exception": false,
     "start_time": "2021-11-01T03:14:01.258397",
     "status": "completed"
    },
    "tags": []
   },
   "outputs": [
    {
     "data": {
      "image/png": "[encoded data removed]",
      "text/plain": [
       "<Figure size 864x432 with 2 Axes>"
      ]
     },
     "metadata": {
      "needs_background": "light"
     },
     "output_type": "display_data"
    }
   ],
   "source": [
    "# Distribution of Age feature\n",
    "\n",
    "fig,axes = plt.subplots(nrows=1,ncols=2,figsize=(12,6))\n",
    "sns.countplot(data=df,x='Age',ax=axes[0],palette='colorblind')\n",
    "sns.countplot(data=df,x='Age',hue='Target',ax=axes[1],palette='colorblind')\n",
    "plt.show()\n",
    "\n",
    "# Interesting to note: There are no 32 year olds who are represented in this dataset."
   ]
  },
  {
   "cell_type": "code",
   "execution_count": 10,
   "id": "668a6140",
   "metadata": {
    "execution": {
     "iopub.execute_input": "2021-11-01T03:14:01.974061Z",
     "iopub.status.busy": "2021-11-01T03:14:01.973028Z",
     "iopub.status.idle": "2021-11-01T03:14:02.268959Z",
     "shell.execute_reply": "2021-11-01T03:14:02.267996Z",
     "shell.execute_reply.started": "2021-11-01T02:54:24.933746Z"
    },
    "papermill": {
     "duration": 0.341464,
     "end_time": "2021-11-01T03:14:02.269811",
     "exception": false,
     "start_time": "2021-11-01T03:14:01.928347",
     "status": "completed"
    },
    "tags": []
   },
   "outputs": [
    {
     "data": {
      "image/png": "[encoded data removed]",
      "text/plain": [
       "<Figure size 864x432 with 2 Axes>"
      ]
     },
     "metadata": {
      "needs_background": "light"
     },
     "output_type": "display_data"
    }
   ],
   "source": [
    "# Distribution of Frequent Flyer feature\n",
    "\n",
    "fig,axes = plt.subplots(nrows=1,ncols=2,figsize=(12,6))\n",
    "sns.countplot(data=df,x='FrequentFlyer',ax=axes[0],palette='colorblind')\n",
    "sns.countplot(data=df,x='FrequentFlyer',hue='Target',ax=axes[1],palette='colorblind')\n",
    "plt.show()"
   ]
  },
  {
   "cell_type": "code",
   "execution_count": 11,
   "id": "300c2ce2",
   "metadata": {
    "execution": {
     "iopub.execute_input": "2021-11-01T03:14:02.380586Z",
     "iopub.status.busy": "2021-11-01T03:14:02.379538Z",
     "iopub.status.idle": "2021-11-01T03:14:02.706172Z",
     "shell.execute_reply": "2021-11-01T03:14:02.706797Z",
     "shell.execute_reply.started": "2021-11-01T02:54:29.824001Z"
    },
    "papermill": {
     "duration": 0.379275,
     "end_time": "2021-11-01T03:14:02.706982",
     "exception": false,
     "start_time": "2021-11-01T03:14:02.327707",
     "status": "completed"
    },
    "tags": []
   },
   "outputs": [
    {
     "data": {
      "image/png": "[encoded data removed]",
      "text/plain": [
       "<Figure size 864x432 with 2 Axes>"
      ]
     },
     "metadata": {
      "needs_background": "light"
     },
     "output_type": "display_data"
    }
   ],
   "source": [
    "# Distribution of Annual Income Class Feature\n",
    "\n",
    "fig,axes = plt.subplots(nrows=1,ncols=2,figsize=(12,6))\n",
    "sns.countplot(data=df,x='AnnualIncomeClass',ax=axes[0],palette='colorblind')\n",
    "sns.countplot(data=df,x='AnnualIncomeClass',hue='Target',ax=axes[1],palette='colorblind')\n",
    "plt.show()"
   ]
  },
  {
   "cell_type": "code",
   "execution_count": 12,
   "id": "165345a0",
   "metadata": {
    "execution": {
     "iopub.execute_input": "2021-11-01T03:14:02.810785Z",
     "iopub.status.busy": "2021-11-01T03:14:02.801260Z",
     "iopub.status.idle": "2021-11-01T03:14:03.384461Z",
     "shell.execute_reply": "2021-11-01T03:14:03.384983Z",
     "shell.execute_reply.started": "2021-11-01T02:55:43.711307Z"
    },
    "papermill": {
     "duration": 0.637321,
     "end_time": "2021-11-01T03:14:03.385183",
     "exception": false,
     "start_time": "2021-11-01T03:14:02.747862",
     "status": "completed"
    },
    "tags": []
   },
   "outputs": [
    {
     "data": {
      "image/png": "[encoded data removed]",
      "text/plain": [
       "<Figure size 1080x360 with 3 Axes>"
      ]
     },
     "metadata": {
      "needs_background": "light"
     },
     "output_type": "display_data"
    }
   ],
   "source": [
    "# Distribution of Services Opted Feature\n",
    "\n",
    "fig,axes = plt.subplots(nrows=1,ncols=3,figsize=(15,5))\n",
    "sns.countplot(data=df,x='ServicesOpted',ax=axes[0],palette='colorblind')\n",
    "sns.countplot(data=df,x='ServicesOpted',hue='Target',ax=axes[1],palette='colorblind')\n",
    "sns.histplot(data=df,x='ServicesOpted',hue='Target',kde=True,palette='colorblind',ax=axes[2])\n",
    "plt.show()"
   ]
  },
  {
   "cell_type": "code",
   "execution_count": 13,
   "id": "6e484fb2",
   "metadata": {
    "execution": {
     "iopub.execute_input": "2021-11-01T03:14:03.471938Z",
     "iopub.status.busy": "2021-11-01T03:14:03.470904Z",
     "iopub.status.idle": "2021-11-01T03:14:03.754675Z",
     "shell.execute_reply": "2021-11-01T03:14:03.755261Z",
     "shell.execute_reply.started": "2021-11-01T02:56:10.814832Z"
    },
    "papermill": {
     "duration": 0.329658,
     "end_time": "2021-11-01T03:14:03.755446",
     "exception": false,
     "start_time": "2021-11-01T03:14:03.425788",
     "status": "completed"
    },
    "tags": []
   },
   "outputs": [
    {
     "data": {
      "image/png": "[encoded data removed]",
      "text/plain": [
       "<Figure size 864x432 with 2 Axes>"
      ]
     },
     "metadata": {
      "needs_background": "light"
     },
     "output_type": "display_data"
    }
   ],
   "source": [
    "# Distribution of AccountSyncedToSocialMedia Feature\n",
    "\n",
    "fig,axes = plt.subplots(nrows=1,ncols=2,figsize=(12,6))\n",
    "sns.countplot(data=df,x='AccountSyncedToSocialMedia',ax=axes[0],palette='colorblind')\n",
    "sns.countplot(data=df,x='AccountSyncedToSocialMedia',hue='Target',ax=axes[1],palette='colorblind')\n",
    "plt.show()"
   ]
  },
  {
   "cell_type": "code",
   "execution_count": 14,
   "id": "d63bc0c0",
   "metadata": {
    "execution": {
     "iopub.execute_input": "2021-11-01T03:14:03.852374Z",
     "iopub.status.busy": "2021-11-01T03:14:03.851707Z",
     "iopub.status.idle": "2021-11-01T03:14:04.168189Z",
     "shell.execute_reply": "2021-11-01T03:14:04.169082Z",
     "shell.execute_reply.started": "2021-11-01T02:56:17.842951Z"
    },
    "papermill": {
     "duration": 0.373287,
     "end_time": "2021-11-01T03:14:04.169561",
     "exception": false,
     "start_time": "2021-11-01T03:14:03.796274",
     "status": "completed"
    },
    "tags": []
   },
   "outputs": [
    {
     "data": {
      "image/png": "[encoded data removed]",
      "text/plain": [
       "<Figure size 864x432 with 2 Axes>"
      ]
     },
     "metadata": {
      "needs_background": "light"
     },
     "output_type": "display_data"
    }
   ],
   "source": [
    "# Distribution of BookedHotelOrNot feature\n",
    "fig,axes = plt.subplots(nrows=1,ncols=2,figsize=(12,6))\n",
    "sns.countplot(data=df,x='BookedHotelOrNot',ax=axes[0],palette='colorblind')\n",
    "sns.countplot(data=df,x='BookedHotelOrNot',hue='Target',ax=axes[1],palette='colorblind')\n",
    "plt.show()"
   ]
  },
  {
   "cell_type": "code",
   "execution_count": 15,
   "id": "eeb9d296",
   "metadata": {
    "execution": {
     "iopub.execute_input": "2021-11-01T03:14:04.269301Z",
     "iopub.status.busy": "2021-11-01T03:14:04.268116Z",
     "iopub.status.idle": "2021-11-01T03:14:04.292497Z",
     "shell.execute_reply": "2021-11-01T03:14:04.293044Z",
     "shell.execute_reply.started": "2021-11-01T02:56:24.563839Z"
    },
    "papermill": {
     "duration": 0.076536,
     "end_time": "2021-11-01T03:14:04.293252",
     "exception": false,
     "start_time": "2021-11-01T03:14:04.216716",
     "status": "completed"
    },
    "tags": []
   },
   "outputs": [
    {
     "data": {
      "text/html": [
       "<div>\n",
       "<style scoped>\n",
       "    .dataframe tbody tr th:only-of-type {\n",
       "        vertical-align: middle;\n",
       "    }\n",
       "\n",
       "    .dataframe tbody tr th {\n",
       "        vertical-align: top;\n",
       "    }\n",
       "\n",
       "    .dataframe thead th {\n",
       "        text-align: right;\n",
       "    }\n",
       "</style>\n",
       "<table border=\"1\" class=\"dataframe\">\n",
       "  <thead>\n",
       "    <tr style=\"text-align: right;\">\n",
       "      <th></th>\n",
       "      <th>count</th>\n",
       "      <th>mean</th>\n",
       "      <th>std</th>\n",
       "      <th>min</th>\n",
       "      <th>25%</th>\n",
       "      <th>50%</th>\n",
       "      <th>75%</th>\n",
       "      <th>max</th>\n",
       "    </tr>\n",
       "  </thead>\n",
       "  <tbody>\n",
       "    <tr>\n",
       "      <th>Age</th>\n",
       "      <td>954.0</td>\n",
       "      <td>32.109015</td>\n",
       "      <td>3.337388</td>\n",
       "      <td>27.0</td>\n",
       "      <td>30.0</td>\n",
       "      <td>31.0</td>\n",
       "      <td>35.0</td>\n",
       "      <td>38.0</td>\n",
       "    </tr>\n",
       "    <tr>\n",
       "      <th>ServicesOpted</th>\n",
       "      <td>954.0</td>\n",
       "      <td>2.437107</td>\n",
       "      <td>1.606233</td>\n",
       "      <td>1.0</td>\n",
       "      <td>1.0</td>\n",
       "      <td>2.0</td>\n",
       "      <td>4.0</td>\n",
       "      <td>6.0</td>\n",
       "    </tr>\n",
       "    <tr>\n",
       "      <th>Target</th>\n",
       "      <td>954.0</td>\n",
       "      <td>0.234801</td>\n",
       "      <td>0.424097</td>\n",
       "      <td>0.0</td>\n",
       "      <td>0.0</td>\n",
       "      <td>0.0</td>\n",
       "      <td>0.0</td>\n",
       "      <td>1.0</td>\n",
       "    </tr>\n",
       "  </tbody>\n",
       "</table>\n",
       "</div>"
      ],
      "text/plain": [
       "               count       mean       std   min   25%   50%   75%   max\n",
       "Age            954.0  32.109015  3.337388  27.0  30.0  31.0  35.0  38.0\n",
       "ServicesOpted  954.0   2.437107  1.606233   1.0   1.0   2.0   4.0   6.0\n",
       "Target         954.0   0.234801  0.424097   0.0   0.0   0.0   0.0   1.0"
      ]
     },
     "execution_count": 15,
     "metadata": {},
     "output_type": "execute_result"
    }
   ],
   "source": [
    "df.describe().transpose()"
   ]
  },
  {
   "cell_type": "code",
   "execution_count": 16,
   "id": "e50078a8",
   "metadata": {
    "execution": {
     "iopub.execute_input": "2021-11-01T03:14:04.384218Z",
     "iopub.status.busy": "2021-11-01T03:14:04.383199Z",
     "iopub.status.idle": "2021-11-01T03:14:04.401940Z",
     "shell.execute_reply": "2021-11-01T03:14:04.402531Z",
     "shell.execute_reply.started": "2021-11-01T02:56:51.560913Z"
    },
    "papermill": {
     "duration": 0.0665,
     "end_time": "2021-11-01T03:14:04.402716",
     "exception": false,
     "start_time": "2021-11-01T03:14:04.336216",
     "status": "completed"
    },
    "scrolled": true,
    "tags": []
   },
   "outputs": [
    {
     "data": {
      "text/html": [
       "<div>\n",
       "<style scoped>\n",
       "    .dataframe tbody tr th:only-of-type {\n",
       "        vertical-align: middle;\n",
       "    }\n",
       "\n",
       "    .dataframe tbody tr th {\n",
       "        vertical-align: top;\n",
       "    }\n",
       "\n",
       "    .dataframe thead th {\n",
       "        text-align: right;\n",
       "    }\n",
       "</style>\n",
       "<table border=\"1\" class=\"dataframe\">\n",
       "  <thead>\n",
       "    <tr style=\"text-align: right;\">\n",
       "      <th></th>\n",
       "      <th>Age</th>\n",
       "      <th>ServicesOpted</th>\n",
       "      <th>Target</th>\n",
       "      <th>FrequentFlyer_No Record</th>\n",
       "      <th>FrequentFlyer_Yes</th>\n",
       "      <th>AnnualIncomeClass_Low Income</th>\n",
       "      <th>AnnualIncomeClass_Middle Income</th>\n",
       "      <th>AccountSyncedToSocialMedia_Yes</th>\n",
       "      <th>BookedHotelOrNot_Yes</th>\n",
       "    </tr>\n",
       "  </thead>\n",
       "  <tbody>\n",
       "    <tr>\n",
       "      <th>0</th>\n",
       "      <td>34</td>\n",
       "      <td>6</td>\n",
       "      <td>0</td>\n",
       "      <td>0</td>\n",
       "      <td>0</td>\n",
       "      <td>0</td>\n",
       "      <td>1</td>\n",
       "      <td>0</td>\n",
       "      <td>1</td>\n",
       "    </tr>\n",
       "    <tr>\n",
       "      <th>1</th>\n",
       "      <td>34</td>\n",
       "      <td>5</td>\n",
       "      <td>1</td>\n",
       "      <td>0</td>\n",
       "      <td>1</td>\n",
       "      <td>1</td>\n",
       "      <td>0</td>\n",
       "      <td>1</td>\n",
       "      <td>0</td>\n",
       "    </tr>\n",
       "    <tr>\n",
       "      <th>2</th>\n",
       "      <td>37</td>\n",
       "      <td>3</td>\n",
       "      <td>0</td>\n",
       "      <td>0</td>\n",
       "      <td>0</td>\n",
       "      <td>0</td>\n",
       "      <td>1</td>\n",
       "      <td>1</td>\n",
       "      <td>0</td>\n",
       "    </tr>\n",
       "    <tr>\n",
       "      <th>3</th>\n",
       "      <td>30</td>\n",
       "      <td>2</td>\n",
       "      <td>0</td>\n",
       "      <td>0</td>\n",
       "      <td>0</td>\n",
       "      <td>0</td>\n",
       "      <td>1</td>\n",
       "      <td>0</td>\n",
       "      <td>0</td>\n",
       "    </tr>\n",
       "    <tr>\n",
       "      <th>4</th>\n",
       "      <td>30</td>\n",
       "      <td>1</td>\n",
       "      <td>0</td>\n",
       "      <td>0</td>\n",
       "      <td>0</td>\n",
       "      <td>1</td>\n",
       "      <td>0</td>\n",
       "      <td>0</td>\n",
       "      <td>0</td>\n",
       "    </tr>\n",
       "  </tbody>\n",
       "</table>\n",
       "</div>"
      ],
      "text/plain": [
       "   Age  ServicesOpted  Target  FrequentFlyer_No Record  FrequentFlyer_Yes  \\\n",
       "0   34              6       0                        0                  0   \n",
       "1   34              5       1                        0                  1   \n",
       "2   37              3       0                        0                  0   \n",
       "3   30              2       0                        0                  0   \n",
       "4   30              1       0                        0                  0   \n",
       "\n",
       "   AnnualIncomeClass_Low Income  AnnualIncomeClass_Middle Income  \\\n",
       "0                             0                                1   \n",
       "1                             1                                0   \n",
       "2                             0                                1   \n",
       "3                             0                                1   \n",
       "4                             1                                0   \n",
       "\n",
       "   AccountSyncedToSocialMedia_Yes  BookedHotelOrNot_Yes  \n",
       "0                               0                     1  \n",
       "1                               1                     0  \n",
       "2                               1                     0  \n",
       "3                               0                     0  \n",
       "4                               0                     0  "
      ]
     },
     "execution_count": 16,
     "metadata": {},
     "output_type": "execute_result"
    }
   ],
   "source": [
    "# Creating dummy variables for categorical features so we can create correlation plots, setting drop_first=True to avoid any\n",
    "# issues with multicollinearity\n",
    "\n",
    "df = pd.get_dummies(df,drop_first=True)\n",
    "df.head()"
   ]
  },
  {
   "cell_type": "code",
   "execution_count": 17,
   "id": "f7300947",
   "metadata": {},
   "outputs": [
    {
     "data": {
      "text/html": [
       "<div>\n",
       "<style scoped>\n",
       "    .dataframe tbody tr th:only-of-type {\n",
       "        vertical-align: middle;\n",
       "    }\n",
       "\n",
       "    .dataframe tbody tr th {\n",
       "        vertical-align: top;\n",
       "    }\n",
       "\n",
       "    .dataframe thead th {\n",
       "        text-align: right;\n",
       "    }\n",
       "</style>\n",
       "<table border=\"1\" class=\"dataframe\">\n",
       "  <thead>\n",
       "    <tr style=\"text-align: right;\">\n",
       "      <th></th>\n",
       "      <th>Age</th>\n",
       "      <th>ServicesOpted</th>\n",
       "      <th>Target</th>\n",
       "      <th>FrequentFlyer_No Record</th>\n",
       "      <th>FrequentFlyer_Yes</th>\n",
       "      <th>AnnualIncomeClass_Low Income</th>\n",
       "      <th>AnnualIncomeClass_Middle Income</th>\n",
       "      <th>AccountSyncedToSocialMedia_Yes</th>\n",
       "      <th>BookedHotelOrNot_Yes</th>\n",
       "    </tr>\n",
       "  </thead>\n",
       "  <tbody>\n",
       "    <tr>\n",
       "      <th>949</th>\n",
       "      <td>31</td>\n",
       "      <td>1</td>\n",
       "      <td>0</td>\n",
       "      <td>0</td>\n",
       "      <td>1</td>\n",
       "      <td>1</td>\n",
       "      <td>0</td>\n",
       "      <td>0</td>\n",
       "      <td>0</td>\n",
       "    </tr>\n",
       "    <tr>\n",
       "      <th>950</th>\n",
       "      <td>30</td>\n",
       "      <td>5</td>\n",
       "      <td>0</td>\n",
       "      <td>0</td>\n",
       "      <td>0</td>\n",
       "      <td>0</td>\n",
       "      <td>1</td>\n",
       "      <td>0</td>\n",
       "      <td>1</td>\n",
       "    </tr>\n",
       "    <tr>\n",
       "      <th>951</th>\n",
       "      <td>37</td>\n",
       "      <td>4</td>\n",
       "      <td>0</td>\n",
       "      <td>0</td>\n",
       "      <td>0</td>\n",
       "      <td>0</td>\n",
       "      <td>1</td>\n",
       "      <td>0</td>\n",
       "      <td>0</td>\n",
       "    </tr>\n",
       "    <tr>\n",
       "      <th>952</th>\n",
       "      <td>30</td>\n",
       "      <td>1</td>\n",
       "      <td>0</td>\n",
       "      <td>0</td>\n",
       "      <td>0</td>\n",
       "      <td>1</td>\n",
       "      <td>0</td>\n",
       "      <td>1</td>\n",
       "      <td>1</td>\n",
       "    </tr>\n",
       "    <tr>\n",
       "      <th>953</th>\n",
       "      <td>31</td>\n",
       "      <td>1</td>\n",
       "      <td>0</td>\n",
       "      <td>0</td>\n",
       "      <td>1</td>\n",
       "      <td>0</td>\n",
       "      <td>0</td>\n",
       "      <td>0</td>\n",
       "      <td>0</td>\n",
       "    </tr>\n",
       "  </tbody>\n",
       "</table>\n",
       "</div>"
      ],
      "text/plain": [
       "     Age  ServicesOpted  Target  FrequentFlyer_No Record  FrequentFlyer_Yes  \\\n",
       "949   31              1       0                        0                  1   \n",
       "950   30              5       0                        0                  0   \n",
       "951   37              4       0                        0                  0   \n",
       "952   30              1       0                        0                  0   \n",
       "953   31              1       0                        0                  1   \n",
       "\n",
       "     AnnualIncomeClass_Low Income  AnnualIncomeClass_Middle Income  \\\n",
       "949                             1                                0   \n",
       "950                             0                                1   \n",
       "951                             0                                1   \n",
       "952                             1                                0   \n",
       "953                             0                                0   \n",
       "\n",
       "     AccountSyncedToSocialMedia_Yes  BookedHotelOrNot_Yes  \n",
       "949                               0                     0  \n",
       "950                               0                     1  \n",
       "951                               0                     0  \n",
       "952                               1                     1  \n",
       "953                               0                     0  "
      ]
     },
     "execution_count": 17,
     "metadata": {},
     "output_type": "execute_result"
    }
   ],
   "source": [
    "df.tail()"
   ]
  },
  {
   "cell_type": "code",
   "execution_count": 18,
   "id": "71e16113",
   "metadata": {
    "execution": {
     "iopub.execute_input": "2021-11-01T03:14:04.495219Z",
     "iopub.status.busy": "2021-11-01T03:14:04.494028Z",
     "iopub.status.idle": "2021-11-01T03:14:05.235475Z",
     "shell.execute_reply": "2021-11-01T03:14:05.235929Z",
     "shell.execute_reply.started": "2021-11-01T02:57:00.581899Z"
    },
    "papermill": {
     "duration": 0.789287,
     "end_time": "2021-11-01T03:14:05.236125",
     "exception": false,
     "start_time": "2021-11-01T03:14:04.446838",
     "status": "completed"
    },
    "tags": []
   },
   "outputs": [
    {
     "data": {
      "image/png": "[encoded data removed]",
      "text/plain": [
       "<Figure size 648x432 with 2 Axes>"
      ]
     },
     "metadata": {
      "needs_background": "light"
     },
     "output_type": "display_data"
    }
   ],
   "source": [
    "plt.figure(figsize=(9,6))\n",
    "sns.heatmap(data=df.corr(),cmap='viridis',annot=True)\n",
    "plt.show()"
   ]
  },
  {
   "cell_type": "code",
   "execution_count": 19,
   "id": "e66975a1",
   "metadata": {
    "execution": {
     "iopub.execute_input": "2021-11-01T03:14:05.333266Z",
     "iopub.status.busy": "2021-11-01T03:14:05.332604Z",
     "iopub.status.idle": "2021-11-01T03:14:05.339638Z",
     "shell.execute_reply": "2021-11-01T03:14:05.340276Z",
     "shell.execute_reply.started": "2021-11-01T02:57:07.645940Z"
    },
    "papermill": {
     "duration": 0.058748,
     "end_time": "2021-11-01T03:14:05.340462",
     "exception": false,
     "start_time": "2021-11-01T03:14:05.281714",
     "status": "completed"
    },
    "tags": []
   },
   "outputs": [
    {
     "data": {
      "text/plain": [
       "Target                             1.000000\n",
       "FrequentFlyer_Yes                  0.430973\n",
       "AnnualIncomeClass_Middle Income    0.339959\n",
       "BookedHotelOrNot_Yes               0.206055\n",
       "Age                                0.131534\n",
       "AccountSyncedToSocialMedia_Yes     0.073831\n",
       "AnnualIncomeClass_Low Income       0.067348\n",
       "FrequentFlyer_No Record            0.062015\n",
       "ServicesOpted                      0.038646\n",
       "Name: Target, dtype: float64"
      ]
     },
     "execution_count": 19,
     "metadata": {},
     "output_type": "execute_result"
    }
   ],
   "source": [
    "abs(df.corr()['Target']).sort_values(ascending=False)"
   ]
  },
  {
   "cell_type": "code",
   "execution_count": 20,
   "id": "6b33f121",
   "metadata": {
    "execution": {
     "iopub.execute_input": "2021-11-01T03:14:05.435646Z",
     "iopub.status.busy": "2021-11-01T03:14:05.434688Z",
     "iopub.status.idle": "2021-11-01T03:14:05.623840Z",
     "shell.execute_reply": "2021-11-01T03:14:05.624352Z",
     "shell.execute_reply.started": "2021-11-01T02:57:12.118138Z"
    },
    "papermill": {
     "duration": 0.238965,
     "end_time": "2021-11-01T03:14:05.624644",
     "exception": false,
     "start_time": "2021-11-01T03:14:05.385679",
     "status": "completed"
    },
    "tags": []
   },
   "outputs": [
    {
     "data": {
      "text/plain": [
       "<AxesSubplot:xlabel='Target', ylabel='count'>"
      ]
     },
     "execution_count": 20,
     "metadata": {},
     "output_type": "execute_result"
    },
    {
     "data": {
      "image/png": "[encoded data removed]",
      "text/plain": [
       "<Figure size 648x432 with 1 Axes>"
      ]
     },
     "metadata": {
      "needs_background": "light"
     },
     "output_type": "display_data"
    }
   ],
   "source": [
    "# Checking balance of target label\n",
    "\n",
    "plt.figure(figsize=(9,6))\n",
    "sns.countplot(data=df,x='Target')"
   ]
  },
  {
   "cell_type": "code",
   "execution_count": 21,
   "id": "cb7585fe",
   "metadata": {
    "execution": {
     "iopub.execute_input": "2021-11-01T03:14:05.721058Z",
     "iopub.status.busy": "2021-11-01T03:14:05.719987Z",
     "iopub.status.idle": "2021-11-01T03:14:05.727110Z",
     "shell.execute_reply": "2021-11-01T03:14:05.727698Z",
     "shell.execute_reply.started": "2021-11-01T02:57:17.555154Z"
    },
    "papermill": {
     "duration": 0.057085,
     "end_time": "2021-11-01T03:14:05.727875",
     "exception": false,
     "start_time": "2021-11-01T03:14:05.670790",
     "status": "completed"
    },
    "tags": []
   },
   "outputs": [
    {
     "data": {
      "text/plain": [
       "0    730\n",
       "1    224\n",
       "Name: Target, dtype: int64"
      ]
     },
     "execution_count": 21,
     "metadata": {},
     "output_type": "execute_result"
    }
   ],
   "source": [
    "# Label is pretty unbalanced. we will have to keep this in mind when developing\n",
    "# the models\n",
    "df['Target'].value_counts()"
   ]
  },
  {
   "cell_type": "code",
   "execution_count": 22,
   "id": "deb4572d",
   "metadata": {},
   "outputs": [],
   "source": [
    "df['FrequentFlyer_No Record']=df['FrequentFlyer_No Record'].astype(int)\n",
    "df['FrequentFlyer_Yes']=df['FrequentFlyer_Yes'].astype(int)\n",
    "df['AnnualIncomeClass_Low Income']=df['AnnualIncomeClass_Low Income'].astype(int)\n",
    "df['AnnualIncomeClass_Middle Income']=df['AnnualIncomeClass_Middle Income'].astype(int)\n",
    "df['AccountSyncedToSocialMedia_Yes']=df['AccountSyncedToSocialMedia_Yes'].astype(int)\n",
    "df['BookedHotelOrNot_Yes']=df['BookedHotelOrNot_Yes'].astype(int)"
   ]
  },
  {
   "cell_type": "code",
   "execution_count": 23,
   "id": "371f745c",
   "metadata": {},
   "outputs": [
    {
     "name": "stdout",
     "output_type": "stream",
     "text": [
      "<class 'pandas.core.frame.DataFrame'>\n",
      "Int64Index: 954 entries, 0 to 953\n",
      "Data columns (total 9 columns):\n",
      " #   Column                           Non-Null Count  Dtype\n",
      "---  ------                           --------------  -----\n",
      " 0   Age                              954 non-null    int64\n",
      " 1   ServicesOpted                    954 non-null    int64\n",
      " 2   Target                           954 non-null    int64\n",
      " 3   FrequentFlyer_No Record          954 non-null    int32\n",
      " 4   FrequentFlyer_Yes                954 non-null    int32\n",
      " 5   AnnualIncomeClass_Low Income     954 non-null    int32\n",
      " 6   AnnualIncomeClass_Middle Income  954 non-null    int32\n",
      " 7   AccountSyncedToSocialMedia_Yes   954 non-null    int32\n",
      " 8   BookedHotelOrNot_Yes             954 non-null    int32\n",
      "dtypes: int32(6), int64(3)\n",
      "memory usage: 84.5 KB\n"
     ]
    }
   ],
   "source": [
    "df.info()"
   ]
  },
  {
   "cell_type": "markdown",
   "id": "b808b335",
   "metadata": {
    "papermill": {
     "duration": 0.045981,
     "end_time": "2021-11-01T03:14:05.819456",
     "exception": false,
     "start_time": "2021-11-01T03:14:05.773475",
     "status": "completed"
    },
    "tags": []
   },
   "source": [
    "### Conclusion:\n",
    "**1**. Frequent Flyer status has the highest correlation to whether or not the customer churns.\n",
    "\n",
    "**2**. Being a frequent flyer and having high income are the two significant features where Churn exceeds Non-Churn. Intuitively, this makes sense. Someone with more money and who flys a lot is more likely to experiment with different travel companies if they have to travel a lot.\n",
    "\n",
    "**3**. 27 and 28 year olds churn more than any other age group.\n",
    "\n",
    "**4**. Overall, it appears that the more services that are opted, the lower the churn rate. It's interesting to explore because the churn rate is minimized at 3 services but starts to grow again after that point. But it seems to plateau and not get much higher.\n",
    "\n",
    "**5**. People who don't book hotels churn more than those who do, and intuitively this just makes sense.\n",
    "\n",
    "..."
   ]
  },
  {
   "cell_type": "markdown",
   "id": "7d838876",
   "metadata": {
    "papermill": {
     "duration": 0.047481,
     "end_time": "2021-11-01T03:14:05.913196",
     "exception": false,
     "start_time": "2021-11-01T03:14:05.865715",
     "status": "completed"
    },
    "tags": []
   },
   "source": [
    "---\n",
    "## Preprocessing"
   ]
  },
  {
   "cell_type": "code",
   "execution_count": 24,
   "id": "6d42fc5d",
   "metadata": {
    "execution": {
     "iopub.execute_input": "2021-11-01T03:14:06.010310Z",
     "iopub.status.busy": "2021-11-01T03:14:06.009268Z",
     "iopub.status.idle": "2021-11-01T03:14:06.014934Z",
     "shell.execute_reply": "2021-11-01T03:14:06.015545Z",
     "shell.execute_reply.started": "2021-11-01T02:58:32.539661Z"
    },
    "papermill": {
     "duration": 0.056263,
     "end_time": "2021-11-01T03:14:06.015743",
     "exception": false,
     "start_time": "2021-11-01T03:14:05.959480",
     "status": "completed"
    },
    "tags": []
   },
   "outputs": [],
   "source": [
    "X = df.drop('Target',axis=1)\n",
    "y = df['Target']"
   ]
  },
  {
   "cell_type": "code",
   "execution_count": 25,
   "id": "92ead29a",
   "metadata": {
    "execution": {
     "iopub.execute_input": "2021-11-01T03:14:06.114353Z",
     "iopub.status.busy": "2021-11-01T03:14:06.113336Z",
     "iopub.status.idle": "2021-11-01T03:14:06.306768Z",
     "shell.execute_reply": "2021-11-01T03:14:06.307289Z",
     "shell.execute_reply.started": "2021-11-01T02:58:36.478233Z"
    },
    "papermill": {
     "duration": 0.243684,
     "end_time": "2021-11-01T03:14:06.307475",
     "exception": false,
     "start_time": "2021-11-01T03:14:06.063791",
     "status": "completed"
    },
    "tags": []
   },
   "outputs": [],
   "source": [
    "from sklearn.model_selection import train_test_split\n",
    "from sklearn.preprocessing import StandardScaler\n",
    "\n",
    "X_train, X_test, y_train, y_test = train_test_split(X, y, test_size=0.2)\n",
    "scaler = StandardScaler()\n",
    "scaled_X_train = scaler.fit_transform(X_train)\n",
    "scaled_X_test = scaler.transform(X_test)"
   ]
  },
  {
   "cell_type": "code",
   "execution_count": 26,
   "id": "5208e0c5",
   "metadata": {},
   "outputs": [
    {
     "data": {
      "text/plain": [
       "0      0\n",
       "1      1\n",
       "2      0\n",
       "3      0\n",
       "4      0\n",
       "      ..\n",
       "949    0\n",
       "950    0\n",
       "951    0\n",
       "952    0\n",
       "953    0\n",
       "Name: Target, Length: 954, dtype: int64"
      ]
     },
     "execution_count": 26,
     "metadata": {},
     "output_type": "execute_result"
    }
   ],
   "source": [
    "y"
   ]
  },
  {
   "cell_type": "markdown",
   "id": "22524da9",
   "metadata": {
    "papermill": {
     "duration": 0.045784,
     "end_time": "2021-11-01T03:14:06.399575",
     "exception": false,
     "start_time": "2021-11-01T03:14:06.353791",
     "status": "completed"
    },
    "tags": []
   },
   "source": [
    "## KNN"
   ]
  },
  {
   "cell_type": "code",
   "execution_count": 27,
   "id": "63a0b4d4",
   "metadata": {
    "execution": {
     "iopub.execute_input": "2021-11-01T03:14:06.496058Z",
     "iopub.status.busy": "2021-11-01T03:14:06.494955Z",
     "iopub.status.idle": "2021-11-01T03:14:06.839047Z",
     "shell.execute_reply": "2021-11-01T03:14:06.839591Z",
     "shell.execute_reply.started": "2021-11-01T02:59:16.053185Z"
    },
    "papermill": {
     "duration": 0.394097,
     "end_time": "2021-11-01T03:14:06.839773",
     "exception": false,
     "start_time": "2021-11-01T03:14:06.445676",
     "status": "completed"
    },
    "tags": []
   },
   "outputs": [],
   "source": [
    "from sklearn.neighbors import KNeighborsClassifier\n",
    "\n",
    "# Preliminary model inpspection using 1 neighbor\n",
    "knn_model = KNeighborsClassifier(n_neighbors=1)\n",
    "knn_model.fit(scaled_X_train, y_train)\n",
    "\n",
    "knn_pred = knn_model.predict(scaled_X_test)"
   ]
  },
  {
   "cell_type": "code",
   "execution_count": 28,
   "id": "2fdfb571",
   "metadata": {
    "execution": {
     "iopub.execute_input": "2021-11-01T03:14:06.937895Z",
     "iopub.status.busy": "2021-11-01T03:14:06.936820Z",
     "iopub.status.idle": "2021-11-01T03:14:06.945940Z",
     "shell.execute_reply": "2021-11-01T03:14:06.946570Z",
     "shell.execute_reply.started": "2021-11-01T02:59:24.625973Z"
    },
    "papermill": {
     "duration": 0.061044,
     "end_time": "2021-11-01T03:14:06.946783",
     "exception": false,
     "start_time": "2021-11-01T03:14:06.885739",
     "status": "completed"
    },
    "tags": []
   },
   "outputs": [
    {
     "data": {
      "text/plain": [
       "array([[132,   6],\n",
       "       [ 15,  38]], dtype=int64)"
      ]
     },
     "execution_count": 28,
     "metadata": {},
     "output_type": "execute_result"
    }
   ],
   "source": [
    "from sklearn.metrics import confusion_matrix,classification_report,plot_confusion_matrix\n",
    "\n",
    "confusion_matrix(y_test,knn_pred)"
   ]
  },
  {
   "cell_type": "code",
   "execution_count": 29,
   "id": "4ea94430",
   "metadata": {
    "execution": {
     "iopub.execute_input": "2021-11-01T03:14:07.044514Z",
     "iopub.status.busy": "2021-11-01T03:14:07.043473Z",
     "iopub.status.idle": "2021-11-01T03:14:07.054475Z",
     "shell.execute_reply": "2021-11-01T03:14:07.053656Z",
     "shell.execute_reply.started": "2021-11-01T02:59:33.623871Z"
    },
    "papermill": {
     "duration": 0.060964,
     "end_time": "2021-11-01T03:14:07.054708",
     "exception": false,
     "start_time": "2021-11-01T03:14:06.993744",
     "status": "completed"
    },
    "tags": []
   },
   "outputs": [
    {
     "name": "stdout",
     "output_type": "stream",
     "text": [
      "              precision    recall  f1-score   support\n",
      "\n",
      "           0       0.90      0.96      0.93       138\n",
      "           1       0.86      0.72      0.78        53\n",
      "\n",
      "    accuracy                           0.89       191\n",
      "   macro avg       0.88      0.84      0.85       191\n",
      "weighted avg       0.89      0.89      0.89       191\n",
      "\n"
     ]
    }
   ],
   "source": [
    "print(classification_report(y_test,knn_pred))"
   ]
  },
  {
   "cell_type": "code",
   "execution_count": 30,
   "id": "97148e63",
   "metadata": {
    "execution": {
     "iopub.execute_input": "2021-11-01T03:14:07.154513Z",
     "iopub.status.busy": "2021-11-01T03:14:07.153742Z",
     "iopub.status.idle": "2021-11-01T03:14:07.156690Z",
     "shell.execute_reply": "2021-11-01T03:14:07.156048Z",
     "shell.execute_reply.started": "2021-11-01T02:59:48.104344Z"
    },
    "papermill": {
     "duration": 0.053989,
     "end_time": "2021-11-01T03:14:07.156830",
     "exception": false,
     "start_time": "2021-11-01T03:14:07.102841",
     "status": "completed"
    },
    "tags": []
   },
   "outputs": [],
   "source": [
    "# Baseline with 1 neighbor performance isn't that great as expected. Going to graph the test error rates to see if the elbow method\n",
    "# is appropriate\n",
    "from sklearn.metrics import accuracy_score"
   ]
  },
  {
   "cell_type": "code",
   "execution_count": 31,
   "id": "32eb9b3e",
   "metadata": {
    "execution": {
     "iopub.execute_input": "2021-11-01T03:14:07.257270Z",
     "iopub.status.busy": "2021-11-01T03:14:07.256560Z",
     "iopub.status.idle": "2021-11-01T03:14:07.452473Z",
     "shell.execute_reply": "2021-11-01T03:14:07.453055Z",
     "shell.execute_reply.started": "2021-11-01T03:00:30.932810Z"
    },
    "papermill": {
     "duration": 0.247176,
     "end_time": "2021-11-01T03:14:07.453262",
     "exception": false,
     "start_time": "2021-11-01T03:14:07.206086",
     "status": "completed"
    },
    "tags": []
   },
   "outputs": [],
   "source": [
    "test_error_rates = []\n",
    "\n",
    "for k in range(1,30):\n",
    "    knn_model = KNeighborsClassifier(n_neighbors=k)\n",
    "    knn_model.fit(scaled_X_train,y_train)\n",
    "    \n",
    "    knn_pred_test = knn_model.predict(scaled_X_test)\n",
    "    \n",
    "    test_error = 1-accuracy_score(y_test,knn_pred_test)\n",
    "    \n",
    "    test_error_rates.append(test_error)"
   ]
  },
  {
   "cell_type": "code",
   "execution_count": 32,
   "id": "434a6f9e",
   "metadata": {
    "execution": {
     "iopub.execute_input": "2021-11-01T03:14:07.550114Z",
     "iopub.status.busy": "2021-11-01T03:14:07.549479Z",
     "iopub.status.idle": "2021-11-01T03:14:07.742342Z",
     "shell.execute_reply": "2021-11-01T03:14:07.742878Z",
     "shell.execute_reply.started": "2021-11-01T03:00:37.603729Z"
    },
    "papermill": {
     "duration": 0.243308,
     "end_time": "2021-11-01T03:14:07.743054",
     "exception": false,
     "start_time": "2021-11-01T03:14:07.499746",
     "status": "completed"
    },
    "tags": []
   },
   "outputs": [
    {
     "data": {
      "image/png": "[encoded data removed]",
      "text/plain": [
       "<Figure size 432x288 with 1 Axes>"
      ]
     },
     "metadata": {
      "needs_background": "light"
     },
     "output_type": "display_data"
    }
   ],
   "source": [
    "plt.plot(range(1,30),test_error_rates)\n",
    "plt.ylabel('Error Rate')\n",
    "plt.xlabel('K Neighbors')\n",
    "plt.show()"
   ]
  },
  {
   "cell_type": "code",
   "execution_count": 33,
   "id": "13ff5039",
   "metadata": {
    "execution": {
     "iopub.execute_input": "2021-11-01T03:14:07.842143Z",
     "iopub.status.busy": "2021-11-01T03:14:07.841515Z",
     "iopub.status.idle": "2021-11-01T03:14:07.845572Z",
     "shell.execute_reply": "2021-11-01T03:14:07.845982Z",
     "shell.execute_reply.started": "2021-11-01T03:01:01.542139Z"
    },
    "papermill": {
     "duration": 0.055446,
     "end_time": "2021-11-01T03:14:07.846181",
     "exception": false,
     "start_time": "2021-11-01T03:14:07.790735",
     "status": "completed"
    },
    "tags": []
   },
   "outputs": [],
   "source": [
    "# Using a pipeline which we will then use in a Grid Search\n",
    "\n",
    "scaler = StandardScaler()\n",
    "knn = KNeighborsClassifier()"
   ]
  },
  {
   "cell_type": "code",
   "execution_count": 34,
   "id": "e3ef47db",
   "metadata": {
    "execution": {
     "iopub.execute_input": "2021-11-01T03:14:07.948145Z",
     "iopub.status.busy": "2021-11-01T03:14:07.947492Z",
     "iopub.status.idle": "2021-11-01T03:14:07.952906Z",
     "shell.execute_reply": "2021-11-01T03:14:07.952404Z",
     "shell.execute_reply.started": "2021-11-01T03:01:05.816702Z"
    },
    "papermill": {
     "duration": 0.059216,
     "end_time": "2021-11-01T03:14:07.953049",
     "exception": false,
     "start_time": "2021-11-01T03:14:07.893833",
     "status": "completed"
    },
    "tags": []
   },
   "outputs": [],
   "source": [
    "from sklearn.pipeline import Pipeline\n",
    "\n",
    "operations = [('scaler',scaler),('knn',knn)]\n",
    "pipe = Pipeline(operations)"
   ]
  },
  {
   "cell_type": "code",
   "execution_count": 35,
   "id": "49fb868b",
   "metadata": {
    "execution": {
     "iopub.execute_input": "2021-11-01T03:14:08.052480Z",
     "iopub.status.busy": "2021-11-01T03:14:08.051583Z",
     "iopub.status.idle": "2021-11-01T03:14:09.514139Z",
     "shell.execute_reply": "2021-11-01T03:14:09.513560Z",
     "shell.execute_reply.started": "2021-11-01T03:01:11.896997Z"
    },
    "papermill": {
     "duration": 1.513946,
     "end_time": "2021-11-01T03:14:09.514322",
     "exception": false,
     "start_time": "2021-11-01T03:14:08.000376",
     "status": "completed"
    },
    "tags": []
   },
   "outputs": [],
   "source": [
    "from sklearn.model_selection import GridSearchCV\n",
    "\n",
    "k_values = list(range(1,20))\n",
    "param_grid = {'knn__n_neighbors':k_values}\n",
    "\n",
    "full_knncv_classifier = GridSearchCV(pipe,param_grid,cv=5,scoring='accuracy')\n",
    "full_knncv_classifier.fit(X_train,y_train)\n",
    "\n",
    "full_knn_pred = full_knncv_classifier.predict(X_test)"
   ]
  },
  {
   "cell_type": "code",
   "execution_count": 36,
   "id": "707a45c9",
   "metadata": {
    "execution": {
     "iopub.execute_input": "2021-11-01T03:14:09.618145Z",
     "iopub.status.busy": "2021-11-01T03:14:09.612842Z",
     "iopub.status.idle": "2021-11-01T03:14:09.879842Z",
     "shell.execute_reply": "2021-11-01T03:14:09.880407Z",
     "shell.execute_reply.started": "2021-11-01T03:05:37.931723Z"
    },
    "papermill": {
     "duration": 0.31867,
     "end_time": "2021-11-01T03:14:09.880614",
     "exception": false,
     "start_time": "2021-11-01T03:14:09.561944",
     "status": "completed"
    },
    "tags": []
   },
   "outputs": [
    {
     "data": {
      "text/plain": [
       "<sklearn.metrics._plot.confusion_matrix.ConfusionMatrixDisplay at 0x23289a666a0>"
      ]
     },
     "execution_count": 36,
     "metadata": {},
     "output_type": "execute_result"
    },
    {
     "data": {
      "image/png": "[encoded data removed]",
      "text/plain": [
       "<Figure size 432x288 with 2 Axes>"
      ]
     },
     "metadata": {
      "needs_background": "light"
     },
     "output_type": "display_data"
    }
   ],
   "source": [
    "plot_confusion_matrix(full_knncv_classifier,X_test,y_test)"
   ]
  },
  {
   "cell_type": "code",
   "execution_count": 37,
   "id": "ed000f27",
   "metadata": {
    "execution": {
     "iopub.execute_input": "2021-11-01T03:14:09.988360Z",
     "iopub.status.busy": "2021-11-01T03:14:09.987686Z",
     "iopub.status.idle": "2021-11-01T03:14:09.995399Z",
     "shell.execute_reply": "2021-11-01T03:14:09.995838Z",
     "shell.execute_reply.started": "2021-11-01T03:05:41.889314Z"
    },
    "papermill": {
     "duration": 0.064795,
     "end_time": "2021-11-01T03:14:09.996019",
     "exception": false,
     "start_time": "2021-11-01T03:14:09.931224",
     "status": "completed"
    },
    "tags": []
   },
   "outputs": [
    {
     "name": "stdout",
     "output_type": "stream",
     "text": [
      "              precision    recall  f1-score   support\n",
      "\n",
      "           0       0.90      0.96      0.93       138\n",
      "           1       0.86      0.72      0.78        53\n",
      "\n",
      "    accuracy                           0.89       191\n",
      "   macro avg       0.88      0.84      0.85       191\n",
      "weighted avg       0.89      0.89      0.89       191\n",
      "\n"
     ]
    }
   ],
   "source": [
    "print(classification_report(y_test,full_knn_pred))"
   ]
  },
  {
   "cell_type": "code",
   "execution_count": 38,
   "id": "56d3c6cd",
   "metadata": {
    "execution": {
     "iopub.execute_input": "2021-11-01T03:14:10.100929Z",
     "iopub.status.busy": "2021-11-01T03:14:10.100141Z",
     "iopub.status.idle": "2021-11-01T03:14:10.102515Z",
     "shell.execute_reply": "2021-11-01T03:14:10.102940Z",
     "shell.execute_reply.started": "2021-11-01T03:10:08.080549Z"
    },
    "papermill": {
     "duration": 0.057154,
     "end_time": "2021-11-01T03:14:10.103115",
     "exception": false,
     "start_time": "2021-11-01T03:14:10.045961",
     "status": "completed"
    },
    "tags": []
   },
   "outputs": [],
   "source": [
    "from sklearn.metrics import plot_roc_curve"
   ]
  },
  {
   "cell_type": "code",
   "execution_count": 39,
   "id": "6102178e",
   "metadata": {
    "execution": {
     "iopub.execute_input": "2021-11-01T03:14:10.203217Z",
     "iopub.status.busy": "2021-11-01T03:14:10.202590Z",
     "iopub.status.idle": "2021-11-01T03:14:10.391026Z",
     "shell.execute_reply": "2021-11-01T03:14:10.391526Z",
     "shell.execute_reply.started": "2021-11-01T03:01:42.889623Z"
    },
    "papermill": {
     "duration": 0.240102,
     "end_time": "2021-11-01T03:14:10.391722",
     "exception": false,
     "start_time": "2021-11-01T03:14:10.151620",
     "status": "completed"
    },
    "tags": []
   },
   "outputs": [
    {
     "data": {
      "image/png": "[encoded data removed]",
      "text/plain": [
       "<Figure size 864x576 with 1 Axes>"
      ]
     },
     "metadata": {
      "needs_background": "light"
     },
     "output_type": "display_data"
    }
   ],
   "source": [
    "fig,ax=plt.subplots(figsize=(12,8))\n",
    "plot_roc_curve(full_knncv_classifier,X_test,y_test,\n",
    "               ax=ax,name='KNN')\n",
    "plt.show()"
   ]
  },
  {
   "cell_type": "markdown",
   "id": "3f62357e",
   "metadata": {
    "papermill": {
     "duration": 0.048921,
     "end_time": "2021-11-01T03:14:10.490222",
     "exception": false,
     "start_time": "2021-11-01T03:14:10.441301",
     "status": "completed"
    },
    "tags": []
   },
   "source": [
    "Despite KNN performing well in a lot of classification scenarios, I believe that the largely imbalanced classes are affecting the recall of the '1' label. We will see how it performs using logistic regression."
   ]
  },
  {
   "cell_type": "markdown",
   "id": "16762450",
   "metadata": {
    "papermill": {
     "duration": 0.04885,
     "end_time": "2021-11-01T03:14:10.588608",
     "exception": false,
     "start_time": "2021-11-01T03:14:10.539758",
     "status": "completed"
    },
    "tags": []
   },
   "source": [
    "---\n",
    "## Logistic Regression"
   ]
  },
  {
   "cell_type": "code",
   "execution_count": 40,
   "id": "48410988",
   "metadata": {
    "execution": {
     "iopub.execute_input": "2021-11-01T03:14:10.693142Z",
     "iopub.status.busy": "2021-11-01T03:14:10.692463Z",
     "iopub.status.idle": "2021-11-01T03:14:10.840247Z",
     "shell.execute_reply": "2021-11-01T03:14:10.839564Z",
     "shell.execute_reply.started": "2021-11-01T03:05:03.989784Z"
    },
    "papermill": {
     "duration": 0.202632,
     "end_time": "2021-11-01T03:14:10.840456",
     "exception": false,
     "start_time": "2021-11-01T03:14:10.637824",
     "status": "completed"
    },
    "tags": []
   },
   "outputs": [
    {
     "data": {
      "text/plain": [
       "LogisticRegression()"
      ]
     },
     "execution_count": 40,
     "metadata": {},
     "output_type": "execute_result"
    }
   ],
   "source": [
    "from sklearn.linear_model import LogisticRegression\n",
    "model=LogisticRegression()\n",
    "model.fit(X,y)"
   ]
  },
  {
   "cell_type": "code",
   "execution_count": 41,
   "id": "4b0a6436",
   "metadata": {
    "execution": {
     "iopub.execute_input": "2021-11-01T03:14:10.945005Z",
     "iopub.status.busy": "2021-11-01T03:14:10.942840Z",
     "iopub.status.idle": "2021-11-01T03:14:10.948360Z",
     "shell.execute_reply": "2021-11-01T03:14:10.948779Z",
     "shell.execute_reply.started": "2021-11-01T03:05:05.385238Z"
    },
    "papermill": {
     "duration": 0.059019,
     "end_time": "2021-11-01T03:14:10.948954",
     "exception": false,
     "start_time": "2021-11-01T03:14:10.889935",
     "status": "completed"
    },
    "tags": []
   },
   "outputs": [
    {
     "data": {
      "text/plain": [
       "0.8228511530398323"
      ]
     },
     "execution_count": 41,
     "metadata": {},
     "output_type": "execute_result"
    }
   ],
   "source": [
    "model.score(X,y)"
   ]
  },
  {
   "cell_type": "code",
   "execution_count": 42,
   "id": "abd7113b",
   "metadata": {
    "execution": {
     "iopub.execute_input": "2021-11-01T03:14:11.053008Z",
     "iopub.status.busy": "2021-11-01T03:14:11.052363Z",
     "iopub.status.idle": "2021-11-01T03:14:11.056963Z",
     "shell.execute_reply": "2021-11-01T03:14:11.057457Z",
     "shell.execute_reply.started": "2021-11-01T03:05:05.826660Z"
    },
    "papermill": {
     "duration": 0.058327,
     "end_time": "2021-11-01T03:14:11.057655",
     "exception": false,
     "start_time": "2021-11-01T03:14:10.999328",
     "status": "completed"
    },
    "tags": []
   },
   "outputs": [
    {
     "data": {
      "text/plain": [
       "array([1], dtype=int64)"
      ]
     },
     "execution_count": 42,
     "metadata": {},
     "output_type": "execute_result"
    }
   ],
   "source": [
    "log_pred = model.predict([[34,5,0,1,1,0,1,0]])\n",
    "log_pred"
   ]
  },
  {
   "cell_type": "markdown",
   "id": "31dff3fe",
   "metadata": {
    "papermill": {
     "duration": 0.05672,
     "end_time": "2021-11-01T03:16:22.048615",
     "exception": false,
     "start_time": "2021-11-01T03:16:21.991895",
     "status": "completed"
    },
    "tags": []
   },
   "source": [
    "---\n",
    "## Random Forest Classifier"
   ]
  },
  {
   "cell_type": "code",
   "execution_count": 43,
   "id": "10cea2e2",
   "metadata": {
    "execution": {
     "iopub.execute_input": "2021-11-01T03:16:22.334330Z",
     "iopub.status.busy": "2021-11-01T03:16:22.333735Z",
     "iopub.status.idle": "2021-11-01T03:16:22.336982Z",
     "shell.execute_reply": "2021-11-01T03:16:22.337565Z",
     "shell.execute_reply.started": "2021-11-01T03:10:50.304050Z"
    },
    "papermill": {
     "duration": 0.061627,
     "end_time": "2021-11-01T03:16:22.337721",
     "exception": false,
     "start_time": "2021-11-01T03:16:22.276094",
     "status": "completed"
    },
    "tags": []
   },
   "outputs": [
    {
     "data": {
      "text/plain": [
       "RandomForestClassifier(max_depth=8, min_samples_split=5, random_state=42)"
      ]
     },
     "execution_count": 43,
     "metadata": {},
     "output_type": "execute_result"
    }
   ],
   "source": [
    "from sklearn.ensemble import RandomForestClassifier\n",
    "rf=RandomForestClassifier(criterion='gini',n_estimators=100,max_depth=8,min_samples_split=5,min_samples_leaf=1,random_state=42)\n",
    "rf.fit(X_train,y_train)"
   ]
  },
  {
   "cell_type": "code",
   "execution_count": 44,
   "id": "582406bc",
   "metadata": {
    "execution": {
     "iopub.execute_input": "2021-11-01T03:16:22.453410Z",
     "iopub.status.busy": "2021-11-01T03:16:22.452699Z",
     "iopub.status.idle": "2021-11-01T03:18:07.289835Z",
     "shell.execute_reply": "2021-11-01T03:18:07.290346Z",
     "shell.execute_reply.started": "2021-11-01T03:10:53.264468Z"
    },
    "papermill": {
     "duration": 104.898266,
     "end_time": "2021-11-01T03:18:07.290540",
     "exception": false,
     "start_time": "2021-11-01T03:16:22.392274",
     "status": "completed"
    },
    "tags": []
   },
   "outputs": [
    {
     "name": "stdout",
     "output_type": "stream",
     "text": [
      "Training Score: 0.9357798165137615\n",
      "Testing Score: 0.8743455497382199\n"
     ]
    }
   ],
   "source": [
    "print(\"Training Score:\",rf.score(X_train,y_train))\n",
    "print(\"Testing Score:\",rf.score(X_test,y_test))"
   ]
  },
  {
   "cell_type": "code",
   "execution_count": 45,
   "id": "5949d8e0",
   "metadata": {
    "execution": {
     "iopub.execute_input": "2021-11-01T03:18:07.660059Z",
     "iopub.status.busy": "2021-11-01T03:18:07.659302Z",
     "iopub.status.idle": "2021-11-01T03:18:07.888599Z",
     "shell.execute_reply": "2021-11-01T03:18:07.887938Z",
     "shell.execute_reply.started": "2021-11-01T03:13:10.568964Z"
    },
    "papermill": {
     "duration": 0.287933,
     "end_time": "2021-11-01T03:18:07.888747",
     "exception": false,
     "start_time": "2021-11-01T03:18:07.600814",
     "status": "completed"
    },
    "tags": []
   },
   "outputs": [
    {
     "data": {
      "image/png": "[encoded data removed]",
      "text/plain": [
       "<Figure size 1728x864 with 2 Axes>"
      ]
     },
     "metadata": {
      "needs_background": "light"
     },
     "output_type": "display_data"
    }
   ],
   "source": [
    "plt.figure(figsize = (24, 12))\n",
    "\n",
    "corr = df.corr()\n",
    "sns.heatmap(corr, annot = True, linewidths = 1)\n",
    "plt.show()"
   ]
  },
  {
   "cell_type": "markdown",
   "id": "fb508bfd",
   "metadata": {
    "papermill": {
     "duration": 0.057,
     "end_time": "2021-11-01T03:18:08.483703",
     "exception": false,
     "start_time": "2021-11-01T03:18:08.426703",
     "status": "completed"
    },
    "tags": []
   },
   "source": [
    "As expected, random forest is performing better than every other classifier at this point in time. Given the fact that the random forest model is the least likely to overfit, I feel it would be most appropriate to deploy this model over the rest."
   ]
  },
  {
   "cell_type": "code",
   "execution_count": 47,
   "id": "529fd13d",
   "metadata": {},
   "outputs": [],
   "source": [
    "import pickle"
   ]
  },
  {
   "cell_type": "code",
   "execution_count": 48,
   "id": "3544a199",
   "metadata": {},
   "outputs": [],
   "source": [
    "pickle.dump(model,open(\"travel_pred.pkl\",\"wb\"))"
   ]
  },
  {
   "cell_type": "code",
   "execution_count": null,
   "id": "c8cf6a64",
   "metadata": {},
   "outputs": [],
   "source": []
  }
 ],
 "metadata": {
  "kernelspec": {
   "display_name": "Python 3 (ipykernel)",
   "language": "python",
   "name": "python3"
  },
  "language_info": {
   "codemirror_mode": {
    "name": "ipython",
    "version": 3
   },
   "file_extension": ".py",
   "mimetype": "text/x-python",
   "name": "python",
   "nbconvert_exporter": "python",
   "pygments_lexer": "ipython3",
   "version": "3.9.7"
  },
  "papermill": {
   "default_parameters": {},
   "duration": 258.732687,
   "end_time": "2021-11-01T03:18:09.681989",
   "environment_variables": {},
   "exception": null,
   "input_path": "__notebook__.ipynb",
   "output_path": "__notebook__.ipynb",
   "parameters": {},
   "start_time": "2021-11-01T03:13:50.949302",
   "version": "2.3.3"
  }
 },
 "nbformat": 4,
 "nbformat_minor": 5
}
